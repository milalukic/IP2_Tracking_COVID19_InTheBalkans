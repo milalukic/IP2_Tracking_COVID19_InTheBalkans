{
 "cells": [
  {
   "cell_type": "code",
   "execution_count": 2,
   "id": "0e86f337",
   "metadata": {},
   "outputs": [],
   "source": [
    "import os\n",
    "\n",
    "def dodaj_referentni_genom(direktorijum, referentna_datoteka):\n",
    "    for folder in os.listdir(direktorijum):\n",
    "        putanja = os.path.join(direktorijum, folder)\n",
    "        if os.path.isdir(putanja):\n",
    "            for datoteka in os.listdir(putanja):\n",
    "                if datoteka.startswith(\"unique\") and datoteka.endswith(\".fasta\"):\n",
    "                    putanja_datoteke = os.path.join(putanja, datoteka)\n",
    "                    with open(referentna_datoteka, \"r\") as referentna:\n",
    "                        referentni_genom = referentna.read()\n",
    "                    with open(putanja_datoteke, \"r\") as ciljana:\n",
    "                        ciljana_sekvencija = ciljana.read()\n",
    "                    with open(putanja_datoteke, \"w\") as ciljana:\n",
    "                        ciljana.write(referentni_genom + ciljana_sekvencija)"
   ]
  },
  {
   "cell_type": "code",
   "execution_count": 5,
   "id": "53ae64da",
   "metadata": {},
   "outputs": [],
   "source": [
    "referentna_datoteka = \"Drzave\"\n",
    "glavni_direktorijum = os. getcwd()"
   ]
  },
  {
   "cell_type": "code",
   "execution_count": 6,
   "id": "0436d5ff",
   "metadata": {},
   "outputs": [],
   "source": [
    "dodaj_referentni_genom(glavni_direktorijum, referentna_datoteka)"
   ]
  }
 ],
 "metadata": {
  "kernelspec": {
   "display_name": "Python 3 (ipykernel)",
   "language": "python",
   "name": "python3"
  },
  "language_info": {
   "codemirror_mode": {
    "name": "ipython",
    "version": 3
   },
   "file_extension": ".py",
   "mimetype": "text/x-python",
   "name": "python",
   "nbconvert_exporter": "python",
   "pygments_lexer": "ipython3",
   "version": "3.10.1"
  }
 },
 "nbformat": 4,
 "nbformat_minor": 5
}
