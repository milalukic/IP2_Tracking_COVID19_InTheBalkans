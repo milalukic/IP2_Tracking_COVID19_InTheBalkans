{
 "cells": [
  {
   "cell_type": "code",
   "execution_count": 3,
   "id": "cb99967b",
   "metadata": {},
   "outputs": [],
   "source": [
    "import os\n",
    "from Bio import SeqIO\n",
    "import csv"
   ]
  },
  {
   "cell_type": "code",
   "execution_count": 11,
   "id": "1dd0eaac",
   "metadata": {},
   "outputs": [
    {
     "name": "stdout",
     "output_type": "stream",
     "text": [
      "Pozicije razlika za C:\\Users\\Mila\\Desktop\\IP2_Tracking_COVID19_InTheBalkans\\Balkan\\Drzave\\Albanija\\poravnatoAlbanija.fasta su sačuvane u C:\\Users\\Mila\\Desktop\\IP2_Tracking_COVID19_InTheBalkans\\Balkan\\Drzave\\Albanija\\pozicije_razlika_Albanija.csv\n",
      "Pozicije razlika za C:\\Users\\Mila\\Desktop\\IP2_Tracking_COVID19_InTheBalkans\\Balkan\\Drzave\\BiH\\poravnatoBiH.fasta su sačuvane u C:\\Users\\Mila\\Desktop\\IP2_Tracking_COVID19_InTheBalkans\\Balkan\\Drzave\\BiH\\pozicije_razlika_BiH.csv\n",
      "Pozicije razlika za C:\\Users\\Mila\\Desktop\\IP2_Tracking_COVID19_InTheBalkans\\Balkan\\Drzave\\CG\\poravnatoCG.fasta su sačuvane u C:\\Users\\Mila\\Desktop\\IP2_Tracking_COVID19_InTheBalkans\\Balkan\\Drzave\\CG\\pozicije_razlika_CG.csv\n",
      "Pozicije razlika za C:\\Users\\Mila\\Desktop\\IP2_Tracking_COVID19_InTheBalkans\\Balkan\\Drzave\\Madjarska\\poravnatoMadjarska.fasta su sačuvane u C:\\Users\\Mila\\Desktop\\IP2_Tracking_COVID19_InTheBalkans\\Balkan\\Drzave\\Madjarska\\pozicije_razlika_Madjarska.csv\n",
      "Pozicije razlika za C:\\Users\\Mila\\Desktop\\IP2_Tracking_COVID19_InTheBalkans\\Balkan\\Drzave\\Makedonija\\poravnatoMakedonija.fasta su sačuvane u C:\\Users\\Mila\\Desktop\\IP2_Tracking_COVID19_InTheBalkans\\Balkan\\Drzave\\Makedonija\\pozicije_razlika_Makedonija.csv\n",
      "Pozicije razlika za C:\\Users\\Mila\\Desktop\\IP2_Tracking_COVID19_InTheBalkans\\Balkan\\Drzave\\Srbija\\poravnatoSrbija.fasta su sačuvane u C:\\Users\\Mila\\Desktop\\IP2_Tracking_COVID19_InTheBalkans\\Balkan\\Drzave\\Srbija\\pozicije_razlika_Srbija.csv\n"
     ]
    }
   ],
   "source": [
    "def pronadji_pozicije_razlika(referentna_sekv, sekv, ime_sekv, csv_writer):\n",
    "    pozicije_razlika = [i+1 for i, (referentna, trenutna) in enumerate(zip(referentna_sekv, sekv)) if referentna != trenutna and 'n' not in (referentna, trenutna)]\n",
    "    if pozicije_razlika:\n",
    "        csv_writer.writerow([ime_sekv] + pozicije_razlika)\n",
    "\n",
    "def obradi_direktorijum(direktorijum):\n",
    "    for filename in os.listdir(direktorijum):\n",
    "        if filename.endswith(\".fasta\") and filename.startswith(\"poravnato\"):\n",
    "            putanja_do_faste = os.path.join(direktorijum, filename)\n",
    "            referentna_sekv = next(SeqIO.parse(putanja_do_faste, \"fasta\")).seq\n",
    "\n",
    "            # Kreiranje CSV datoteke za svaku .fasta datoteku\n",
    "            csv_datoteka = f\"pozicije_razlika_{os.path.basename(direktorijum)}.csv\"\n",
    "            csv_datoteka_putanja = os.path.join(direktorijum, csv_datoteka)\n",
    "\n",
    "            with open(csv_datoteka_putanja, mode='w', newline='') as csvfile:\n",
    "                csv_writer = csv.writer(csvfile)\n",
    "                csv_writer.writerow([\"Sekvenca\", \"PozicijeRazlika\"])\n",
    "                \n",
    "                # Učitavanje ostalih sekvenci i pronalaženje pozicija razlika\n",
    "                for rekord in SeqIO.parse(putanja_do_faste, \"fasta\"):\n",
    "                    if rekord.id != \"referentna\":\n",
    "                        pronadji_pozicije_razlika(referentna_sekv, rekord.seq, rekord.id, csv_writer)\n",
    "\n",
    "            print(f\"Pozicije razlika za {putanja_do_faste} su sačuvane u {csv_datoteka_putanja}\")\n",
    "\n",
    "# Direktorijum \"Balkan\"\n",
    "cwd = os.getcwd()\n",
    "balkan_direktorijum = os.path.abspath(os.path.join(cwd, os.pardir))\n",
    "balkan_direktorijum += '\\Drzave'\n",
    "\n",
    "# Iteriranje kroz poddirektorijume\n",
    "for drzava_direktorijum in os.listdir(balkan_direktorijum):\n",
    "    puna_putanja = os.path.join(balkan_direktorijum, drzava_direktorijum)\n",
    "    if os.path.isdir(puna_putanja):\n",
    "        obradi_direktorijum(puna_putanja)\n"
   ]
  },
  {
   "cell_type": "code",
   "execution_count": null,
   "id": "bbf91f0a",
   "metadata": {},
   "outputs": [],
   "source": []
  }
 ],
 "metadata": {
  "kernelspec": {
   "display_name": "Python 3 (ipykernel)",
   "language": "python",
   "name": "python3"
  },
  "language_info": {
   "codemirror_mode": {
    "name": "ipython",
    "version": 3
   },
   "file_extension": ".py",
   "mimetype": "text/x-python",
   "name": "python",
   "nbconvert_exporter": "python",
   "pygments_lexer": "ipython3",
   "version": "3.10.1"
  }
 },
 "nbformat": 4,
 "nbformat_minor": 5
}
