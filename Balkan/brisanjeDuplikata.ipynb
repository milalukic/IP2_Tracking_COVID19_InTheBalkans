{
 "cells": [
  {
   "cell_type": "code",
   "execution_count": 2,
   "id": "b5cee5ba",
   "metadata": {},
   "outputs": [],
   "source": [
    "from Bio import SeqIO"
   ]
  },
  {
   "cell_type": "code",
   "execution_count": 3,
   "id": "554962b6",
   "metadata": {
    "scrolled": true
   },
   "outputs": [
    {
     "name": "stdout",
     "output_type": "stream",
     "text": [
      "Obrada direktorijuma: Albanija\n",
      "\tObrada fajla: gisaid_hcov-19_2023_12_10_11.fasta\n",
      "Broj sekvenci na početku: 555\n",
      "Broj jedinstvenih sekvenci: 543\n",
      "Jedinstvene sekvence su sačuvane u: Drzave\\Albanija\\unique_gisaid_hcov-19_2023_12_10_11.fasta\n",
      "Obrada direktorijuma: BiH\n",
      "\tObrada fajla: gisaid_hcov-19_2023_12_10_12.fasta\n",
      "Broj sekvenci na početku: 797\n",
      "Broj jedinstvenih sekvenci: 780\n",
      "Jedinstvene sekvence su sačuvane u: Drzave\\BiH\\unique_gisaid_hcov-19_2023_12_10_12.fasta\n",
      "Obrada direktorijuma: CG\n",
      "\tObrada fajla: gisaid_hcov-19_2023_12_10_12.fasta\n",
      "Broj sekvenci na početku: 449\n",
      "Broj jedinstvenih sekvenci: 438\n",
      "Jedinstvene sekvence su sačuvane u: Drzave\\CG\\unique_gisaid_hcov-19_2023_12_10_12.fasta\n",
      "Obrada direktorijuma: Madjarska\n",
      "\tObrada fajla: gisaid_hcov-19_2023_12_11_10.fasta\n",
      "Broj sekvenci na početku: 567\n",
      "Broj jedinstvenih sekvenci: 485\n",
      "Jedinstvene sekvence su sačuvane u: Drzave\\Madjarska\\unique_gisaid_hcov-19_2023_12_11_10.fasta\n",
      "Obrada direktorijuma: Makedonija\n",
      "\tObrada fajla: gisaid_hcov-19_2023_12_10_13.fasta\n",
      "Broj sekvenci na početku: 40\n",
      "Broj jedinstvenih sekvenci: 39\n",
      "Jedinstvene sekvence su sačuvane u: Drzave\\Makedonija\\unique_gisaid_hcov-19_2023_12_10_13.fasta\n",
      "Obrada direktorijuma: Srbija\n",
      "\tObrada fajla: gisaid_hcov-19_2023_12_10_11.fasta\n",
      "Broj sekvenci na početku: 691\n",
      "Broj jedinstvenih sekvenci: 651\n",
      "Jedinstvene sekvence su sačuvane u: Drzave\\Srbija\\unique_gisaid_hcov-19_2023_12_10_11.fasta\n"
     ]
    }
   ],
   "source": [
    "import os\n",
    "from Bio import SeqIO\n",
    "\n",
    "def remove_duplicates(input_fasta_path, output_fasta_path):\n",
    "    with open(input_fasta_path, 'r') as input_fasta:\n",
    "        sequences = list(SeqIO.parse(input_fasta, 'fasta'))\n",
    "        unique_sequences = list({seq.seq: seq for seq in sequences}.values())\n",
    "\n",
    "    with open(output_fasta_path, 'w') as output_fasta:\n",
    "        SeqIO.write(unique_sequences, output_fasta, 'fasta')\n",
    "    print(f'Broj sekvenci na početku: {len(sequences)}')\n",
    "    print(f'Broj jedinstvenih sekvenci: {len(unique_sequences)}')\n",
    "    print(f'Jedinstvene sekvence su sačuvane u: {output_fasta_path}')\n",
    "\n",
    "# Putanja do direktorijuma \"Balkan\"\n",
    "balkan_directory = 'Drzave'\n",
    "\n",
    "# Iteriranje kroz sve direktorijume u \"Balkan\"\n",
    "for country_directory in os.listdir(balkan_directory):\n",
    "    country_path = os.path.join(balkan_directory, country_directory)\n",
    "\n",
    "    # Provera da li je trenutni element direktorijum\n",
    "    if os.path.isdir(country_path):\n",
    "        print(f\"Obrada direktorijuma: {country_directory}\")\n",
    "\n",
    "        # Iteriranje kroz sve fajlove u trenutnom direktorijumu\n",
    "        for filename in os.listdir(country_path):\n",
    "            filepath = os.path.join(country_path, filename)\n",
    "\n",
    "            # Provera da li je fajl sa ekstenzijom .fasta\n",
    "            if filename.endswith(\".fasta\") and filename.startswith(\"gisaid\"):\n",
    "                print(f\"\\tObrada fajla: {filename}\")\n",
    "                \n",
    "                # Formiranje izlazne putanje za jedinstveni .fasta fajl\n",
    "                output_filepath = os.path.join(country_path, f\"unique_{filename}\")\n",
    "\n",
    "                # Primena funkcije za brisanje duplikata\n",
    "                remove_duplicates(filepath, output_filepath)\n"
   ]
  },
  {
   "cell_type": "code",
   "execution_count": null,
   "id": "9f50b45a",
   "metadata": {},
   "outputs": [],
   "source": []
  }
 ],
 "metadata": {
  "kernelspec": {
   "display_name": "Python 3 (ipykernel)",
   "language": "python",
   "name": "python3"
  },
  "language_info": {
   "codemirror_mode": {
    "name": "ipython",
    "version": 3
   },
   "file_extension": ".py",
   "mimetype": "text/x-python",
   "name": "python",
   "nbconvert_exporter": "python",
   "pygments_lexer": "ipython3",
   "version": "3.10.1"
  }
 },
 "nbformat": 4,
 "nbformat_minor": 5
}
