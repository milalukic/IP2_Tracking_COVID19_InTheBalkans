{
 "cells": [
  {
   "cell_type": "code",
   "execution_count": 5,
   "id": "e0130670",
   "metadata": {},
   "outputs": [],
   "source": [
    "import os\n",
    "import pandas as pd\n",
    "\n",
    "# Postavi putanju do direktorijuma Balkan\n",
    "balkan_path = os. getcwd()\n",
    "balkan_path += '\\Drzave'\n",
    "\n",
    "# Inicijalizuj prazan DataFrame za skladištenje podataka\n",
    "final_data = pd.DataFrame()\n",
    "\n",
    "# Iteriraj kroz poddirektorijume država\n",
    "for country_dir in os.listdir(balkan_path):\n",
    "    country_dir_path = os.path.join(balkan_path, country_dir)\n",
    "    \n",
    "    # Proveri da li je trenutni element direktorijum\n",
    "    if os.path.isdir(country_dir_path):\n",
    "        # Iteriraj kroz fajlove u trenutnom direktorijumu\n",
    "        for file_name in os.listdir(country_dir_path):\n",
    "            # Proveri da li fajl počinje sa \"povezivanje_sa_tsv\" i ima ekstenziju \".csv\"\n",
    "            if file_name.startswith(\"povezivanje_sa_tsv\") and file_name.endswith(\"N.csv\"):\n",
    "                file_path = os.path.join(country_dir_path, file_name)\n",
    "                \n",
    "                try:\n",
    "                    # Učitaj CSV fajl\n",
    "                    data = pd.read_csv(file_path, sep='\\t')\n",
    "                    \n",
    "                    # Dodaj podatke u konačni DataFrame\n",
    "                    final_data = pd.concat([final_data, data], ignore_index=True)\n",
    "                except pd.errors.EmptyDataError:\n",
    "                    print(f\"WARNING: File {file_path} is empty.\")\n",
    "                except pd.errors.ParserError:\n",
    "                    print(f\"ERROR: Unable to parse file {file_path}. Check the file format and separator.\")\n",
    "\n",
    "# Sačuvaj rezultujući DataFrame u novi CSV fajl\n",
    "final_data.to_csv('n_nije_mutacija/sve_povezane_informacije.csv', index=False)"
   ]
  }
 ],
 "metadata": {
  "kernelspec": {
   "display_name": "Python 3 (ipykernel)",
   "language": "python",
   "name": "python3"
  },
  "language_info": {
   "codemirror_mode": {
    "name": "ipython",
    "version": 3
   },
   "file_extension": ".py",
   "mimetype": "text/x-python",
   "name": "python",
   "nbconvert_exporter": "python",
   "pygments_lexer": "ipython3",
   "version": "3.10.1"
  }
 },
 "nbformat": 4,
 "nbformat_minor": 5
}
